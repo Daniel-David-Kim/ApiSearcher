{
 "cells": [
  {
   "cell_type": "code",
   "execution_count": 34,
   "id": "9bf66d0f",
   "metadata": {
    "scrolled": false
   },
   "outputs": [
    {
     "name": "stderr",
     "output_type": "stream",
     "text": [
      "C:\\Users\\Mercedes\\AppData\\Local\\Temp\\ipykernel_1924\\920554373.py:7: DeprecationWarning: executable_path has been deprecated, please pass in a Service object\n",
      "  driver = webdriver.Chrome(driver_path)\n",
      "C:\\Users\\Mercedes\\AppData\\Local\\Temp\\ipykernel_1924\\920554373.py:18: DeprecationWarning: find_elements_by_class_name is deprecated. Please use find_elements(by=By.CLASS_NAME, value=name) instead\n",
      "  module = ['모듈', titles[0].find('a').get_text(), driver.find_elements_by_class_name('sub-title')[0].find_elements_by_tag_name('a')[0]]\n",
      "C:\\Users\\Mercedes\\AppData\\Local\\Temp\\ipykernel_1924\\920554373.py:18: DeprecationWarning: find_elements_by_tag_name is deprecated. Please use find_elements(by=By.TAG_NAME, value=name) instead\n",
      "  module = ['모듈', titles[0].find('a').get_text(), driver.find_elements_by_class_name('sub-title')[0].find_elements_by_tag_name('a')[0]]\n",
      "C:\\Users\\Mercedes\\AppData\\Local\\Temp\\ipykernel_1924\\920554373.py:19: DeprecationWarning: find_elements_by_class_name is deprecated. Please use find_elements(by=By.CLASS_NAME, value=name) instead\n",
      "  package = ['패키지', titles[1].find('a').get_text(), driver.find_elements_by_class_name('sub-title')[1].find_elements_by_tag_name('a')[0]]\n",
      "C:\\Users\\Mercedes\\AppData\\Local\\Temp\\ipykernel_1924\\920554373.py:19: DeprecationWarning: find_elements_by_tag_name is deprecated. Please use find_elements(by=By.TAG_NAME, value=name) instead\n",
      "  package = ['패키지', titles[1].find('a').get_text(), driver.find_elements_by_class_name('sub-title')[1].find_elements_by_tag_name('a')[0]]\n",
      "C:\\Users\\Mercedes\\AppData\\Local\\Temp\\ipykernel_1924\\920554373.py:27: DeprecationWarning: find_elements_by_class_name is deprecated. Please use find_elements(by=By.CLASS_NAME, value=name) instead\n",
      "  imple_targets = driver.find_elements_by_class_name('description')[0].find_elements_by_class_name('notes')[0].find_elements_by_tag_name('a')\n",
      "C:\\Users\\Mercedes\\AppData\\Local\\Temp\\ipykernel_1924\\920554373.py:27: DeprecationWarning: find_elements_by_tag_name is deprecated. Please use find_elements(by=By.TAG_NAME, value=name) instead\n",
      "  imple_targets = driver.find_elements_by_class_name('description')[0].find_elements_by_class_name('notes')[0].find_elements_by_tag_name('a')\n",
      "C:\\Users\\Mercedes\\AppData\\Local\\Temp\\ipykernel_1924\\920554373.py:34: DeprecationWarning: find_elements_by_class_name is deprecated. Please use find_elements(by=By.CLASS_NAME, value=name) instead\n",
      "  known_targets = driver.find_elements_by_class_name('description')[0].find_elements_by_class_name('notes')[1].find_elements_by_tag_name('a')\n",
      "C:\\Users\\Mercedes\\AppData\\Local\\Temp\\ipykernel_1924\\920554373.py:34: DeprecationWarning: find_elements_by_tag_name is deprecated. Please use find_elements(by=By.TAG_NAME, value=name) instead\n",
      "  known_targets = driver.find_elements_by_class_name('description')[0].find_elements_by_class_name('notes')[1].find_elements_by_tag_name('a')\n",
      "C:\\Users\\Mercedes\\AppData\\Local\\Temp\\ipykernel_1924\\920554373.py:49: DeprecationWarning: find_elements_by_class_name is deprecated. Please use find_elements(by=By.CLASS_NAME, value=name) instead\n",
      "  nest_target = driver.find_elements_by_class_name('summary-table.three-column-summary')[0].find_elements_by_class_name('col-second.even-row-color')[0].find_elements_by_tag_name('a')[0]\n",
      "C:\\Users\\Mercedes\\AppData\\Local\\Temp\\ipykernel_1924\\920554373.py:49: DeprecationWarning: find_elements_by_tag_name is deprecated. Please use find_elements(by=By.TAG_NAME, value=name) instead\n",
      "  nest_target = driver.find_elements_by_class_name('summary-table.three-column-summary')[0].find_elements_by_class_name('col-second.even-row-color')[0].find_elements_by_tag_name('a')[0]\n"
     ]
    },
    {
     "name": "stdout",
     "output_type": "stream",
     "text": [
      "{'중첩 클래스': ['protected class\\xa0Frame.AccessibleAWTFrame', '\\nThis class implements accessibility support for the\\n Frame class.\\n', <selenium.webdriver.remote.webelement.WebElement (session=\"a3912396b1a82dd061c7aa55e0adc1e4\", element=\"8dbde451-84b7-4dba-bcb4-df8567540d5a\")>]}\n"
     ]
    }
   ],
   "source": [
    "from selenium import webdriver\n",
    "from selenium.webdriver.common.keys import Keys\n",
    "from bs4 import BeautifulSoup\n",
    "import time, lxml, requests, re\n",
    "\n",
    "driver_path = './resource/WebDriver/chromedriver_win32/chromedriver.exe'\n",
    "driver = webdriver.Chrome(driver_path)\n",
    "\n",
    "test_url = 'https://docs.oracle.com/en/java/javase/16/docs/api/java.desktop/java/awt/Frame.html'\n",
    "driver.get(test_url)\n",
    "time.sleep(3)\n",
    "\n",
    "html = driver.page_source\n",
    "soup = BeautifulSoup(html, 'lxml')\n",
    "#print(soup.prettify())\n",
    "\n",
    "titles = soup.findAll('div', class_='sub-title')\n",
    "module = ['모듈', titles[0].find('a').get_text(), driver.find_elements_by_class_name('sub-title')[0].find_elements_by_tag_name('a')[0]]\n",
    "package = ['패키지', titles[1].find('a').get_text(), driver.find_elements_by_class_name('sub-title')[1].find_elements_by_tag_name('a')[0]]\n",
    "title = soup.find('h1', class_='title').get_text()\n",
    "\n",
    "section = soup.find('section', class_='description')\n",
    "imple_inter_raw = section.find('dl', class_='notes')\n",
    "imple_inter_title = imple_inter_raw.find('dt').get_text()\n",
    "imple_inters = imple_inter_raw.select('dd > code > a')\n",
    "imple_inters = [a.get_text() for a in imple_inters]\n",
    "imple_targets = driver.find_elements_by_class_name('description')[0].find_elements_by_class_name('notes')[0].find_elements_by_tag_name('a')\n",
    "imple_inter = {imple_inter_title:[[name, target] for name, target in zip(imple_inters, imple_targets)]}\n",
    "\n",
    "known_sub_raw = section.findAll('dl', class_='notes')[1]\n",
    "known_sub_title = known_sub_raw.find('dt').get_text()\n",
    "known_subs = known_sub_raw.select('dd > code > a')\n",
    "known_subs = [a.get_text() for a in known_subs]\n",
    "known_targets = driver.find_elements_by_class_name('description')[0].find_elements_by_class_name('notes')[1].find_elements_by_tag_name('a')\n",
    "known_sub = {known_sub_title:[[name, target] for name, target in zip(known_subs, known_targets)]}\n",
    "\n",
    "sig_raw = soup.find('div', class_='type-signature').get_text()\n",
    "sig = re.sub('\\n', ' ', sig_raw)\n",
    "\n",
    "# 본문\n",
    "block = soup.find('div', class_='block').get_text()\n",
    "\n",
    "# 중첩 클래스\n",
    "nested_raw = soup.find('div', class_='summary-table three-column-summary')\n",
    "nest_title1 = nested_raw.find('div', class_='col-first even-row-color').get_text()\n",
    "nest_title2 = nested_raw.find('div', class_='col-second even-row-color').get_text()\n",
    "nest_title = nest_title1 + nest_title2\n",
    "nest_des = nested_raw.find('div', class_='col-last even-row-color').get_text()\n",
    "nest_target = driver.find_elements_by_class_name('summary-table.three-column-summary')[0].find_elements_by_class_name('col-second.even-row-color')[0].find_elements_by_tag_name('a')[0]\n",
    "nest_class = {'중첩 클래스':[nest_title, nest_des, nest_target]}\n",
    "\n"
   ]
  }
 ],
 "metadata": {
  "kernelspec": {
   "display_name": "Python 3 (ipykernel)",
   "language": "python",
   "name": "python3"
  },
  "language_info": {
   "codemirror_mode": {
    "name": "ipython",
    "version": 3
   },
   "file_extension": ".py",
   "mimetype": "text/x-python",
   "name": "python",
   "nbconvert_exporter": "python",
   "pygments_lexer": "ipython3",
   "version": "3.9.12"
  }
 },
 "nbformat": 4,
 "nbformat_minor": 5
}
